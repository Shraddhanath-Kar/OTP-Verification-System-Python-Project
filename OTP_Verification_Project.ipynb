{
  "nbformat": 4,
  "nbformat_minor": 0,
  "metadata": {
    "colab": {
      "provenance": []
    },
    "kernelspec": {
      "name": "python3",
      "display_name": "Python 3"
    },
    "language_info": {
      "name": "python"
    }
  },
  "cells": [
    {
      "cell_type": "markdown",
      "source": [
        "# Project Title: OTP Verification System through Email"
      ],
      "metadata": {
        "id": "VAZzbP44lj-o"
      }
    },
    {
      "cell_type": "code",
      "source": [
        "'import various libraries'\n",
        "import os\n",
        "import math\n",
        "import random\n",
        "import smtplib\n",
        "\n",
        "digits = '0123456789'\n",
        "\n",
        "OTP = \"\"\n",
        "\n",
        "for i in range(6):\n",
        "  OTP += digits[math.floor(random.random()*10)]\n",
        "  msg = OTP + ' is your OTP'\n",
        "  mail = msg\n",
        "\n",
        "lucky = smtplib.SMTP('smtp.gmail.com', 587)\n",
        "lucky.starttls()\n",
        "lucky.login('luckykar22@gmail.com','ynaufqlqhqsjybbk')\n",
        "emailid = input('Please enter your Email: ')\n",
        "lucky.sendmail('&&&&&&&&&&&', emailid, mail)\n",
        "X = input('Please enter your OTP >>: ')\n",
        "if X == OTP:\n",
        "  print('Yes, Your OTP is Verified')\n",
        "else:\n",
        "  print('Wrong OTP, Please Check Your OTP again')"
      ],
      "metadata": {
        "colab": {
          "base_uri": "https://localhost:8080/"
        },
        "id": "SFu5LkJpcY2l",
        "outputId": "46cefe15-d552-4aef-b71a-88758b0fa285"
      },
      "execution_count": null,
      "outputs": [
        {
          "output_type": "stream",
          "name": "stdout",
          "text": [
            "Please enter your Email: luckykar22@gmail.com\n",
            "Please enter your OTP >>: 227962\n",
            "Yes, Your OTP is Verified\n"
          ]
        }
      ]
    },
    {
      "cell_type": "code",
      "source": [
        "# First to create a 6 digit random number.\n",
        "# Then I will store this number to a variable.\n",
        "'Here the random module is used to generate random numbers.'\n",
        "'Here math module provide various mathematical functions'\n",
        "'SMTP provides that allow to send mail using simple mail transfer protocol.'\n",
        "'floor method return the largest integer which is not greater than the given number.'\n",
        "'The server address for gmail is smtp.gmail.com and the port number is 587'"
      ],
      "metadata": {
        "id": "FTYYocss4nUr"
      },
      "execution_count": null,
      "outputs": []
    }
  ]
}